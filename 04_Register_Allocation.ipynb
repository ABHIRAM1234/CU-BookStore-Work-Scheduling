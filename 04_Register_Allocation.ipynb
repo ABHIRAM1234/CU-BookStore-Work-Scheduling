{
 "cells": [
  {
   "cell_type": "code",
   "execution_count": 62,
   "metadata": {},
   "outputs": [],
   "source": [
    "import pandas as pd\n",
    "from datetime import datetime, timedelta, time\n"
   ]
  },
  {
   "cell_type": "code",
   "execution_count": 27,
   "metadata": {},
   "outputs": [
    {
     "data": {
      "text/html": [
       "<div>\n",
       "<style scoped>\n",
       "    .dataframe tbody tr th:only-of-type {\n",
       "        vertical-align: middle;\n",
       "    }\n",
       "\n",
       "    .dataframe tbody tr th {\n",
       "        vertical-align: top;\n",
       "    }\n",
       "\n",
       "    .dataframe thead th {\n",
       "        text-align: right;\n",
       "    }\n",
       "</style>\n",
       "<table border=\"1\" class=\"dataframe\">\n",
       "  <thead>\n",
       "    <tr style=\"text-align: right;\">\n",
       "      <th></th>\n",
       "      <th>Start_time</th>\n",
       "      <th>End_time</th>\n",
       "      <th>Employee</th>\n",
       "      <th>Remaining_hours_left</th>\n",
       "    </tr>\n",
       "  </thead>\n",
       "  <tbody>\n",
       "    <tr>\n",
       "      <th>0</th>\n",
       "      <td>08:30:00</td>\n",
       "      <td>09:00:00</td>\n",
       "      <td>Andrew (AJ) # Bowlen</td>\n",
       "      <td>5.0</td>\n",
       "    </tr>\n",
       "    <tr>\n",
       "      <th>1</th>\n",
       "      <td>08:30:00</td>\n",
       "      <td>09:00:00</td>\n",
       "      <td>Analuisa Flores Teran</td>\n",
       "      <td>2.0</td>\n",
       "    </tr>\n",
       "    <tr>\n",
       "      <th>2</th>\n",
       "      <td>08:30:00</td>\n",
       "      <td>09:00:00</td>\n",
       "      <td>Finn Broderick</td>\n",
       "      <td>2.0</td>\n",
       "    </tr>\n",
       "    <tr>\n",
       "      <th>3</th>\n",
       "      <td>08:30:00</td>\n",
       "      <td>09:00:00</td>\n",
       "      <td>Ricardo Gomez</td>\n",
       "      <td>3.0</td>\n",
       "    </tr>\n",
       "    <tr>\n",
       "      <th>4</th>\n",
       "      <td>08:30:00</td>\n",
       "      <td>09:00:00</td>\n",
       "      <td>Solymar Kneale</td>\n",
       "      <td>2.5</td>\n",
       "    </tr>\n",
       "  </tbody>\n",
       "</table>\n",
       "</div>"
      ],
      "text/plain": [
       "  Start_time  End_time               Employee  Remaining_hours_left\n",
       "0   08:30:00  09:00:00   Andrew (AJ) # Bowlen                   5.0\n",
       "1   08:30:00  09:00:00  Analuisa Flores Teran                   2.0\n",
       "2   08:30:00  09:00:00         Finn Broderick                   2.0\n",
       "3   08:30:00  09:00:00          Ricardo Gomez                   3.0\n",
       "4   08:30:00  09:00:00         Solymar Kneale                   2.5"
      ]
     },
     "execution_count": 27,
     "metadata": {},
     "output_type": "execute_result"
    }
   ],
   "source": [
    "# Import Work Status Per Time table that will be used for prioritizing registors based on remaining work time left\n",
    "\n",
    "work_status_df= pd.read_excel(r\"Intermediate_Results\\sample_work_status_per_time_table.xlsx\")\n",
    "\n",
    "# Select only required columns\n",
    "cols= ['Start_time', 'End_time', 'Employee', 'Remaining_hours_left']\n",
    "work_status_df= work_status_df[cols] \n",
    "\n",
    "# Convert to datetime.time\n",
    "def to_time(x):\n",
    "    return datetime.strptime(x, \"%H:%M:%S\").time()\n",
    "work_status_df['Start_time'] = work_status_df['Start_time'].apply(to_time)\n",
    "work_status_df['End_time'] = work_status_df['End_time'].apply(to_time)\n",
    "\n",
    "work_status_df.head()"
   ]
  },
  {
   "cell_type": "code",
   "execution_count": 28,
   "metadata": {},
   "outputs": [
    {
     "data": {
      "text/plain": [
       "datetime.time(8, 30)"
      ]
     },
     "execution_count": 28,
     "metadata": {},
     "output_type": "execute_result"
    }
   ],
   "source": [
    "work_status_df.iloc[0,0]"
   ]
  },
  {
   "cell_type": "code",
   "execution_count": 31,
   "metadata": {},
   "outputs": [
    {
     "data": {
      "text/html": [
       "<div>\n",
       "<style scoped>\n",
       "    .dataframe tbody tr th:only-of-type {\n",
       "        vertical-align: middle;\n",
       "    }\n",
       "\n",
       "    .dataframe tbody tr th {\n",
       "        vertical-align: top;\n",
       "    }\n",
       "\n",
       "    .dataframe thead th {\n",
       "        text-align: right;\n",
       "    }\n",
       "</style>\n",
       "<table border=\"1\" class=\"dataframe\">\n",
       "  <thead>\n",
       "    <tr style=\"text-align: right;\">\n",
       "      <th></th>\n",
       "      <th>From_Time</th>\n",
       "      <th>To_Time</th>\n",
       "      <th>Reg_Up_Needed</th>\n",
       "      <th>Reg_Down_Needed</th>\n",
       "    </tr>\n",
       "  </thead>\n",
       "  <tbody>\n",
       "    <tr>\n",
       "      <th>0</th>\n",
       "      <td>07:30:00</td>\n",
       "      <td>08:00:00</td>\n",
       "      <td>3</td>\n",
       "      <td>3</td>\n",
       "    </tr>\n",
       "    <tr>\n",
       "      <th>1</th>\n",
       "      <td>08:00:00</td>\n",
       "      <td>08:30:00</td>\n",
       "      <td>3</td>\n",
       "      <td>3</td>\n",
       "    </tr>\n",
       "    <tr>\n",
       "      <th>2</th>\n",
       "      <td>08:30:00</td>\n",
       "      <td>09:00:00</td>\n",
       "      <td>3</td>\n",
       "      <td>3</td>\n",
       "    </tr>\n",
       "    <tr>\n",
       "      <th>3</th>\n",
       "      <td>09:00:00</td>\n",
       "      <td>09:30:00</td>\n",
       "      <td>3</td>\n",
       "      <td>3</td>\n",
       "    </tr>\n",
       "    <tr>\n",
       "      <th>4</th>\n",
       "      <td>09:30:00</td>\n",
       "      <td>10:00:00</td>\n",
       "      <td>3</td>\n",
       "      <td>3</td>\n",
       "    </tr>\n",
       "  </tbody>\n",
       "</table>\n",
       "</div>"
      ],
      "text/plain": [
       "  From_Time   To_Time  Reg_Up_Needed  Reg_Down_Needed\n",
       "0  07:30:00  08:00:00              3                3\n",
       "1  08:00:00  08:30:00              3                3\n",
       "2  08:30:00  09:00:00              3                3\n",
       "3  09:00:00  09:30:00              3                3\n",
       "4  09:30:00  10:00:00              3                3"
      ]
     },
     "execution_count": 31,
     "metadata": {},
     "output_type": "execute_result"
    }
   ],
   "source": [
    "# Import Shift Count Rquirement table that will be used to know how registors have to be assigned\n",
    "\n",
    "shift_req_df= pd.read_excel(r\"Intermediate_Results\\Sample_Shift_Count_Rquirement_table.xlsx\")\n",
    "\n",
    "# Select only required columns\n",
    "cols= ['From_Time', 'To_Time', 'Reg_Up_Needed', 'Reg_Down_Needed']\n",
    "shift_req_df= shift_req_df[cols] \n",
    "\n",
    "# Convert to datetime.time\n",
    "def to_time(x):\n",
    "    return datetime.strptime(x, \"%H:%M:%S\").time()\n",
    "shift_req_df['From_Time'] = shift_req_df['From_Time'].apply(to_time)\n",
    "shift_req_df['To_Time'] = shift_req_df['To_Time'].apply(to_time)\n",
    "\n",
    "shift_req_df.head()"
   ]
  },
  {
   "cell_type": "code",
   "execution_count": 71,
   "metadata": {},
   "outputs": [
    {
     "data": {
      "text/html": [
       "<div>\n",
       "<style scoped>\n",
       "    .dataframe tbody tr th:only-of-type {\n",
       "        vertical-align: middle;\n",
       "    }\n",
       "\n",
       "    .dataframe tbody tr th {\n",
       "        vertical-align: top;\n",
       "    }\n",
       "\n",
       "    .dataframe thead th {\n",
       "        text-align: right;\n",
       "    }\n",
       "</style>\n",
       "<table border=\"1\" class=\"dataframe\">\n",
       "  <thead>\n",
       "    <tr style=\"text-align: right;\">\n",
       "      <th></th>\n",
       "      <th>From_Time</th>\n",
       "      <th>To_Time</th>\n",
       "      <th>Employee_Assigned_Upstairs</th>\n",
       "      <th>Employee_Assigned_Downstairs</th>\n",
       "    </tr>\n",
       "  </thead>\n",
       "  <tbody>\n",
       "    <tr>\n",
       "      <th>0</th>\n",
       "      <td>07:30:00</td>\n",
       "      <td>08:00:00</td>\n",
       "      <td>NaN</td>\n",
       "      <td>NaN</td>\n",
       "    </tr>\n",
       "    <tr>\n",
       "      <th>1</th>\n",
       "      <td>08:00:00</td>\n",
       "      <td>08:30:00</td>\n",
       "      <td>NaN</td>\n",
       "      <td>NaN</td>\n",
       "    </tr>\n",
       "    <tr>\n",
       "      <th>2</th>\n",
       "      <td>08:30:00</td>\n",
       "      <td>09:00:00</td>\n",
       "      <td>['Analuisa Flores Teran']</td>\n",
       "      <td>['Mariana Cepeda']</td>\n",
       "    </tr>\n",
       "    <tr>\n",
       "      <th>3</th>\n",
       "      <td>09:00:00</td>\n",
       "      <td>09:30:00</td>\n",
       "      <td>Dev Mahajan</td>\n",
       "      <td>['Joaquin Salinas']</td>\n",
       "    </tr>\n",
       "    <tr>\n",
       "      <th>4</th>\n",
       "      <td>09:30:00</td>\n",
       "      <td>10:00:00</td>\n",
       "      <td>['Ricardo Gomez']</td>\n",
       "      <td>['Lauren* Koski']</td>\n",
       "    </tr>\n",
       "  </tbody>\n",
       "</table>\n",
       "</div>"
      ],
      "text/plain": [
       "  From_Time   To_Time Employee_Assigned_Upstairs Employee_Assigned_Downstairs\n",
       "0  07:30:00  08:00:00                        NaN                          NaN\n",
       "1  08:00:00  08:30:00                        NaN                          NaN\n",
       "2  08:30:00  09:00:00  ['Analuisa Flores Teran']           ['Mariana Cepeda']\n",
       "3  09:00:00  09:30:00                Dev Mahajan          ['Joaquin Salinas']\n",
       "4  09:30:00  10:00:00          ['Ricardo Gomez']            ['Lauren* Koski']"
      ]
     },
     "execution_count": 71,
     "metadata": {},
     "output_type": "execute_result"
    }
   ],
   "source": [
    "# Import Greeter Assignment table that will be used to know how many registers were moved to greeter\n",
    "\n",
    "greeter_assignment= pd.read_excel(r\"Intermediate_Results\\sample_greeter_assignment_table.xlsx\")\n",
    "\n",
    "# Select only required columns\n",
    "cols= ['From_Time', 'To_Time', 'Employee_Assigned_Upstairs', 'Employee_Assigned_Downstairs']\n",
    "greeter_assignment= greeter_assignment[cols] \n",
    "\n",
    "# Convert to datetime.time\n",
    "def to_time(x):\n",
    "    return datetime.strptime(x, \"%H:%M:%S\").time()\n",
    "greeter_assignment['From_Time'] = greeter_assignment['From_Time'].apply(to_time)\n",
    "greeter_assignment['To_Time'] = greeter_assignment['To_Time'].apply(to_time)\n",
    "\n",
    "greeter_assignment.head()\n"
   ]
  },
  {
   "cell_type": "code",
   "execution_count": 101,
   "metadata": {},
   "outputs": [],
   "source": [
    "# Function to convert the string of list to list in the greeter assignment table\n",
    "def extract_list_from_string(string):\n",
    "    return string.replace(\"'\",'').replace(\"[\",'').replace(\"]\",'').split(\",\")"
   ]
  },
  {
   "cell_type": "code",
   "execution_count": null,
   "metadata": {},
   "outputs": [
    {
     "name": "stdout",
     "output_type": "stream",
     "text": [
      "Allocating registers between 08:30:00 to 09:00:00 ...\n"
     ]
    },
    {
     "name": "stderr",
     "output_type": "stream",
     "text": [
      "C:\\Users\\niran\\AppData\\Local\\Temp\\ipykernel_28048\\1973717794.py:51: SettingWithCopyWarning: \n",
      "A value is trying to be set on a copy of a slice from a DataFrame.\n",
      "Try using .loc[row_indexer,col_indexer] = value instead\n",
      "\n",
      "See the caveats in the documentation: https://pandas.pydata.org/pandas-docs/stable/user_guide/indexing.html#returning-a-view-versus-a-copy\n",
      "  priority_table['RU_Priority'] = priority_table['Remaining_hours_left'].rank(method='min', ascending=False).astype(int)\n",
      "C:\\Users\\niran\\AppData\\Local\\Temp\\ipykernel_28048\\1973717794.py:52: SettingWithCopyWarning: \n",
      "A value is trying to be set on a copy of a slice from a DataFrame\n",
      "\n",
      "See the caveats in the documentation: https://pandas.pydata.org/pandas-docs/stable/user_guide/indexing.html#returning-a-view-versus-a-copy\n",
      "  priority_table.sort_values(by='RU_Priority', inplace=True)\n"
     ]
    },
    {
     "data": {
      "text/html": [
       "<div>\n",
       "<style scoped>\n",
       "    .dataframe tbody tr th:only-of-type {\n",
       "        vertical-align: middle;\n",
       "    }\n",
       "\n",
       "    .dataframe tbody tr th {\n",
       "        vertical-align: top;\n",
       "    }\n",
       "\n",
       "    .dataframe thead th {\n",
       "        text-align: right;\n",
       "    }\n",
       "</style>\n",
       "<table border=\"1\" class=\"dataframe\">\n",
       "  <thead>\n",
       "    <tr style=\"text-align: right;\">\n",
       "      <th></th>\n",
       "      <th>Start_time</th>\n",
       "      <th>End_time</th>\n",
       "      <th>Employee</th>\n",
       "      <th>Remaining_hours_left</th>\n",
       "      <th>RU_Priority</th>\n",
       "    </tr>\n",
       "  </thead>\n",
       "  <tbody>\n",
       "    <tr>\n",
       "      <th>0</th>\n",
       "      <td>08:30:00</td>\n",
       "      <td>09:00:00</td>\n",
       "      <td>Andrew (AJ) # Bowlen</td>\n",
       "      <td>5.0</td>\n",
       "      <td>1</td>\n",
       "    </tr>\n",
       "    <tr>\n",
       "      <th>1</th>\n",
       "      <td>08:30:00</td>\n",
       "      <td>09:00:00</td>\n",
       "      <td>Ricardo Gomez</td>\n",
       "      <td>3.0</td>\n",
       "      <td>2</td>\n",
       "    </tr>\n",
       "    <tr>\n",
       "      <th>2</th>\n",
       "      <td>08:30:00</td>\n",
       "      <td>09:00:00</td>\n",
       "      <td>Solymar Kneale</td>\n",
       "      <td>2.5</td>\n",
       "      <td>3</td>\n",
       "    </tr>\n",
       "    <tr>\n",
       "      <th>3</th>\n",
       "      <td>08:30:00</td>\n",
       "      <td>09:00:00</td>\n",
       "      <td>Analuisa Flores Teran</td>\n",
       "      <td>2.0</td>\n",
       "      <td>4</td>\n",
       "    </tr>\n",
       "    <tr>\n",
       "      <th>4</th>\n",
       "      <td>08:30:00</td>\n",
       "      <td>09:00:00</td>\n",
       "      <td>Finn Broderick</td>\n",
       "      <td>2.0</td>\n",
       "      <td>4</td>\n",
       "    </tr>\n",
       "  </tbody>\n",
       "</table>\n",
       "</div>"
      ],
      "text/plain": [
       "  Start_time  End_time               Employee  Remaining_hours_left  \\\n",
       "0   08:30:00  09:00:00   Andrew (AJ) # Bowlen                   5.0   \n",
       "1   08:30:00  09:00:00          Ricardo Gomez                   3.0   \n",
       "2   08:30:00  09:00:00         Solymar Kneale                   2.5   \n",
       "3   08:30:00  09:00:00  Analuisa Flores Teran                   2.0   \n",
       "4   08:30:00  09:00:00         Finn Broderick                   2.0   \n",
       "\n",
       "   RU_Priority  \n",
       "0            1  \n",
       "1            2  \n",
       "2            3  \n",
       "3            4  \n",
       "4            4  "
      ]
     },
     "metadata": {},
     "output_type": "display_data"
    },
    {
     "name": "stdout",
     "output_type": "stream",
     "text": [
      "new_RD_needed_count 3\n",
      "new_RU_assigned ['Andrew (AJ) # Bowlen', 'Ricardo Gomez', 'Solymar Kneale']\n",
      "new_RD_assigned ['Analuisa Flores Teran', 'Finn Broderick']\n"
     ]
    }
   ],
   "source": [
    "\n",
    "# Prepare intial variables\n",
    "current_RUs= []\n",
    "current_RDs= []\n",
    "store_open_time= time(8, 30) #shift_req_df['From_Time'].min()\n",
    "store_close_time= shift_req_df['From_Time'].max()\n",
    "time_delta= timedelta(minutes=30)\n",
    "\n",
    "curr_time= store_open_time\n",
    "\n",
    "while (curr_time < store_close_time):\n",
    "    curr_time_plus30= (datetime.combine(datetime.today(), curr_time) + time_delta).time()\n",
    "    print(f\"Allocating registers between {curr_time} to {curr_time_plus30} ...\")\n",
    "\n",
    "    # Working Employees\n",
    "    all_working_emp_list= work_status_df[(work_status_df['Start_time']== curr_time) & (work_status_df['End_time']== curr_time_plus30)]['Employee'].to_list()\n",
    "    greeter_emp_list= extract_list_from_string(greeter_assignment[(greeter_assignment['From_Time']== curr_time) & (greeter_assignment['To_Time']== curr_time_plus30)]['Employee_Assigned_Upstairs'].to_list()[0]) + extract_list_from_string(greeter_assignment[(greeter_assignment['From_Time']== curr_time) & (greeter_assignment['To_Time']== curr_time_plus30)]['Employee_Assigned_Downstairs'].to_list()[0])\n",
    "\n",
    "    # Baseed on the workring and greeter list, calculate the retined register list\n",
    "    retained_RUs=[]\n",
    "    retained_RDs= []\n",
    "\n",
    "    for emp in current_RUs:\n",
    "        if (emp not in all_working_emp_list):\n",
    "            # EMP shift got over\n",
    "            continue\n",
    "        if (emp in greeter_emp_list):\n",
    "            # EMP moved to greeter\n",
    "            continue\n",
    "        else:\n",
    "            retained_RUs.append(emp)\n",
    "    \n",
    "    for emp in current_RDs:\n",
    "        if (emp not in all_working_emp_list):\n",
    "            # EMP shift got over\n",
    "            continue\n",
    "        if (emp in greeter_emp_list):\n",
    "            # EMP moved to greeter\n",
    "            continue\n",
    "        else:\n",
    "            retained_RDs.append(emp)\n",
    "\n",
    "    # Find how many new registers are needed\n",
    "    needed_RU_count, needed_RD_count= shift_req_df[(shift_req_df['From_Time']== curr_time) & (shift_req_df['To_Time']== curr_time_plus30)][['Reg_Up_Needed','Reg_Down_Needed']].values[0]\n",
    "    RU_retained_count= len(retained_RUs)\n",
    "    RD_retained_count= len(retained_RDs)\n",
    "    new_RU_needed_count= needed_RU_count-RU_retained_count\n",
    "    new_RD_needed_count= needed_RD_count-RD_retained_count\n",
    "\n",
    "    # Create the prriority table. Use the same table to assign both RU and RD\n",
    "    priority_table= work_status_df[(work_status_df['Start_time']== curr_time) & (work_status_df['End_time']== curr_time_plus30) & (work_status_df['Employee'] not in retained_RUs+retained_RDs)]\n",
    "    priority_table['RU_Priority'] = priority_table['Remaining_hours_left'].rank(method='min', ascending=False).astype(int)\n",
    "    priority_table.sort_values(by='RU_Priority', inplace=True)\n",
    "    priority_table.reset_index(drop=True, inplace=True)\n",
    "    display(priority_table.head())\n",
    "\n",
    "    # Pick the new registers for both RU and RD\n",
    "    print('new_RD_needed_count', new_RD_needed_count)\n",
    "    new_RU_assigned= priority_table['Employee'][:new_RU_needed_count].tolist()\n",
    "    new_RD_assigned= priority_table['Employee'][new_RU_needed_count: new_RU_needed_count+new_RD_needed_count].tolist()\n",
    "    print('new_RU_assigned', new_RU_assigned)\n",
    "    print('new_RD_assigned', new_RD_assigned)\n",
    "    \n",
    "    # Should not break this, rather increment the start time by 30mins so that the while loop continues\n",
    "    break\n"
   ]
  },
  {
   "cell_type": "code",
   "execution_count": null,
   "metadata": {},
   "outputs": [],
   "source": []
  },
  {
   "cell_type": "code",
   "execution_count": null,
   "metadata": {},
   "outputs": [],
   "source": []
  },
  {
   "cell_type": "code",
   "execution_count": 108,
   "metadata": {},
   "outputs": [
    {
     "data": {
      "text/plain": [
       "['Mariana Cepeda']"
      ]
     },
     "execution_count": 108,
     "metadata": {},
     "output_type": "execute_result"
    }
   ],
   "source": [
    "extract_list_from_string(greeter_assignment[(greeter_assignment['From_Time']== curr_time) & (greeter_assignment['To_Time']== curr_time_plus30)]['Employee_Assigned_Downstairs'].to_list()[0])"
   ]
  },
  {
   "cell_type": "code",
   "execution_count": 106,
   "metadata": {},
   "outputs": [
    {
     "name": "stdout",
     "output_type": "stream",
     "text": [
      "<class 'str'>\n"
     ]
    },
    {
     "data": {
      "text/plain": [
       "list"
      ]
     },
     "execution_count": 106,
     "metadata": {},
     "output_type": "execute_result"
    }
   ],
   "source": [
    "print(type(greeter_assignment[(greeter_assignment['From_Time']== curr_time) & (greeter_assignment['To_Time']== curr_time_plus30)]['Employee_Assigned_Upstairs'].to_list()[0]))\n",
    "type(extract_list_from_string(greeter_assignment[(greeter_assignment['From_Time']== curr_time) & (greeter_assignment['To_Time']== curr_time_plus30)]['Employee_Assigned_Upstairs'].to_list()[0]))"
   ]
  },
  {
   "cell_type": "code",
   "execution_count": 99,
   "metadata": {},
   "outputs": [
    {
     "data": {
      "text/plain": [
       "'Mariana Cepeda'"
      ]
     },
     "execution_count": 99,
     "metadata": {},
     "output_type": "execute_result"
    }
   ],
   "source": [
    "\n",
    "\n",
    "\n",
    "extract_list_from_string(greeter_assignment[(greeter_assignment['From_Time']== curr_time) & (greeter_assignment['To_Time']== curr_time_plus30)]['Employee_Assigned_Downstairs'].to_list()[0])"
   ]
  },
  {
   "cell_type": "code",
   "execution_count": 97,
   "metadata": {},
   "outputs": [
    {
     "data": {
      "text/plain": [
       "['Mariana Cepeda', ' AJ John']"
      ]
     },
     "execution_count": 97,
     "metadata": {},
     "output_type": "execute_result"
    }
   ],
   "source": [
    "\"['Mariana Cepeda', 'AJ John']\".replace(\"'\",'').replace(\"[\",'').replace(\"]\",'').split(\",\")"
   ]
  },
  {
   "cell_type": "code",
   "execution_count": 77,
   "metadata": {},
   "outputs": [
    {
     "data": {
      "text/plain": [
       "[1, 2, 3, 4]"
      ]
     },
     "execution_count": 77,
     "metadata": {},
     "output_type": "execute_result"
    }
   ],
   "source": [
    "[1,2,3] + [4]"
   ]
  },
  {
   "cell_type": "code",
   "execution_count": 54,
   "metadata": {},
   "outputs": [
    {
     "data": {
      "text/plain": [
       "datetime.time(7, 30)"
      ]
     },
     "execution_count": 54,
     "metadata": {},
     "output_type": "execute_result"
    }
   ],
   "source": [
    "curr_time"
   ]
  },
  {
   "cell_type": "code",
   "execution_count": null,
   "metadata": {},
   "outputs": [],
   "source": [
    "current_RUs= []\n",
    "current_RDs= []\n",
    "\n",
    "start_time= \n",
    "end_time= \n",
    "time= start_time\n",
    "time_delta= 30mins\n",
    "\n",
    "while (time < end_time):\n",
    "    \n",
    "\n",
    "\n",
    "\n",
    "\n",
    "    time  + = time_delta"
   ]
  }
 ],
 "metadata": {
  "kernelspec": {
   "display_name": "Python 3",
   "language": "python",
   "name": "python3"
  },
  "language_info": {
   "codemirror_mode": {
    "name": "ipython",
    "version": 3
   },
   "file_extension": ".py",
   "mimetype": "text/x-python",
   "name": "python",
   "nbconvert_exporter": "python",
   "pygments_lexer": "ipython3",
   "version": "3.12.7"
  }
 },
 "nbformat": 4,
 "nbformat_minor": 2
}
